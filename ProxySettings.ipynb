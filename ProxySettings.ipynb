{
 "cells": [
  {
   "cell_type": "markdown",
   "metadata": {},
   "source": [
    "## Proxy Server\n",
    "\n",
    "\n",
    "<img src=\"./img/proxy.png\" width=\"80%\" height=\"80%\" />"
   ]
  },
  {
   "cell_type": "markdown",
   "metadata": {},
   "source": [
    "## HttpClient.DefaultProxy (.NET Core 3.0+)\n",
    "Proxy padrão para todas as instâncias de HttpClient\n",
    "* [https://docs.microsoft.com/en-us/dotnet/api/system.net.http.httpclient.defaultproxy](https://docs.microsoft.com/en-us/dotnet/api/system.net.http.httpclient.defaultproxy?view=netcore-3.1)"
   ]
  },
  {
   "cell_type": "code",
   "execution_count": 2,
   "metadata": {},
   "outputs": [
    {
     "name": "stdout",
     "output_type": "stream",
     "text": [
      "\n",
      "Proxy type: HttpEnvironmentProxy\n",
      " - HTTP Proxy: http://localhost:8888/\n",
      " - HTTPS Proxy: http://localhost:8888/\n"
     ]
    }
   ],
   "source": [
    "using System.Net;\n",
    "using System.Net.Http;\n",
    "\n",
    "var httpUri = new Uri(\"http://microsoft.com\");\n",
    "var httpsUri = new Uri(\"https://microsoft.com\");\n",
    "\n",
    "var _proxy = HttpClient.DefaultProxy; \n",
    "\n",
    "Console.WriteLine($\"\\nProxy type: {_proxy.GetType().Name}\");\n",
    "Console.WriteLine($\" - HTTP Proxy: {_proxy.GetProxy(httpUri)}\");\n",
    "Console.WriteLine($\" - HTTPS Proxy: {_proxy.GetProxy(httpsUri)}\");"
   ]
  },
  {
   "cell_type": "markdown",
   "metadata": {},
   "source": [
    "## Variáveis de ambiente (.NET Core 3.0+)\n",
    "Suportadas em Windows, Linux e MacOS. \n",
    "Outras linguagens também leem essas variáveis. \n",
    "\n",
    "* **HTTP_PROXY**: hostname ou IP do proxy usado para requisições **HTTP**.\n",
    "* **HTTPS_PROXY**: hostname ou IP do proxy usado para requisições **HTTPS**.\n",
    "* **ALL_PROXY**: hostname ou IP do proxy usado para requisições **HTTP** e/ou **HTTPS** caso **HTTP_PROXY** e/ou **HTTPS_PROXY** não sejam definidas.\n",
    "* **NO_PROXY**: lista de hostnames/IPs cujas requisições não devam passar pelo proxy."
   ]
  },
  {
   "cell_type": "code",
   "execution_count": 1,
   "metadata": {},
   "outputs": [
    {
     "data": {
      "text/html": [
       "\r\n",
       "<div>\r\n",
       "    <div id='dotnet-interactive-this-cell-14216.cb7d4ef37fe74f908136d22777f919ec' style='display: none'>\r\n",
       "        The below script needs to be able to find the current output cell; this is an easy method to get it.\r\n",
       "    </div>\r\n",
       "    <script type='text/javascript'>\r\n",
       "// ensure `require` is available globally\r\n",
       "if (typeof require !== typeof Function || typeof require.config !== typeof Function) {\r\n",
       "    let require_script = document.createElement('script');\r\n",
       "    require_script.setAttribute('src', 'https://cdnjs.cloudflare.com/ajax/libs/require.js/2.3.6/require.min.js');\r\n",
       "    require_script.setAttribute('type', 'text/javascript');\r\n",
       "    require_script.onload = function () {\r\n",
       "        loadDotnetInteractiveApi();\r\n",
       "    };\r\n",
       "\r\n",
       "    document.getElementsByTagName('head')[0].appendChild(require_script);\r\n",
       "}\r\n",
       "else {\r\n",
       "    loadDotnetInteractiveApi();\r\n",
       "}\r\n",
       "\r\n",
       "async function probeAddresses(probingAddresses) {\r\n",
       "    function timeout(ms, promise) {\r\n",
       "        return new Promise(function (resolve, reject) {\r\n",
       "            setTimeout(function () {\r\n",
       "                reject(new Error('timeout'))\r\n",
       "            }, ms)\r\n",
       "            promise.then(resolve, reject)\r\n",
       "        })\r\n",
       "    }\r\n",
       "\r\n",
       "    if (Array.isArray(probingAddresses)) {\r\n",
       "        for (let i = 0; i < probingAddresses.length; i++) {\r\n",
       "\r\n",
       "            let rootUrl = probingAddresses[i];\r\n",
       "\r\n",
       "            if (!rootUrl.endsWith('/')) {\r\n",
       "                rootUrl = `${rootUrl}/`;\r\n",
       "            }\r\n",
       "\r\n",
       "            try {\r\n",
       "                let response = await timeout(1000, fetch(`${rootUrl}discovery`, {\r\n",
       "                    method: 'POST',\r\n",
       "                    cache: 'no-cache',\r\n",
       "                    mode: 'cors',\r\n",
       "                    timeout: 1000,\r\n",
       "                    headers: {\r\n",
       "                        'Content-Type': 'text/plain'\r\n",
       "                    },\r\n",
       "                    body: probingAddresses[i]\r\n",
       "                }));\r\n",
       "\r\n",
       "                if (response.status == 200) {\r\n",
       "                    return rootUrl;\r\n",
       "                }\r\n",
       "            }\r\n",
       "            catch (e) { }\r\n",
       "        }\r\n",
       "    }\r\n",
       "}\r\n",
       "\r\n",
       "function loadDotnetInteractiveApi() {\r\n",
       "    probeAddresses([\"http://192.168.15.114:1000/\", \"http://100.64.10.238:1000/\", \"http://127.0.0.1:1000/\"])\r\n",
       "        .then((root) => {\r\n",
       "            // use probing to find host url and api resources\r\n",
       "            // load interactive helpers and language services\r\n",
       "            let dotnet_require = require.config({\r\n",
       "                context: '14216.cb7d4ef37fe74f908136d22777f919ec',\r\n",
       "                paths: {\r\n",
       "                    'dotnet-interactive': `${root}resources`\r\n",
       "                }\r\n",
       "            }) || require;\r\n",
       "            if (!window.dotnet_require) {\r\n",
       "                window.dotnet_require = dotnet_require;\r\n",
       "            }\r\n",
       "        \r\n",
       "            dotnet_require([\r\n",
       "                    'dotnet-interactive/dotnet-interactive'\r\n",
       "                ],\r\n",
       "                function (dotnet) {\r\n",
       "                    dotnet.init(window);\r\n",
       "                },\r\n",
       "                function (error) {\r\n",
       "                    console.log(error);\r\n",
       "                }\r\n",
       "            );\r\n",
       "        })\r\n",
       "        .catch(error => {console.log(error);});\r\n",
       "    }\r\n",
       "    </script>\r\n",
       "</div>"
      ]
     },
     "metadata": {},
     "output_type": "display_data"
    },
    {
     "name": "stdout",
     "output_type": "stream",
     "text": [
      "HTTP_PROXY: \n",
      "HTTPS_PROXY: \n",
      "ALL_PROXY: http://localhost:8888\n",
      "NO_PROXY: 192.168.*\n"
     ]
    }
   ],
   "source": [
    "Console.WriteLine($\"HTTP_PROXY: {Environment.GetEnvironmentVariable(\"HTTP_PROXY\")}\");   // Proxy HTTP\n",
    "Console.WriteLine($\"HTTPS_PROXY: {Environment.GetEnvironmentVariable(\"HTTPS_PROXY\")}\"); // Proxy HTTPS\n",
    "Console.WriteLine($\"ALL_PROXY: {Environment.GetEnvironmentVariable(\"ALL_PROXY\")}\");     // Todos os esquemas\n",
    "Console.WriteLine($\"NO_PROXY: {Environment.GetEnvironmentVariable(\"NO_PROXY\")}\");       // Endereços que não passam pelo proxy"
   ]
  },
  {
   "cell_type": "markdown",
   "metadata": {},
   "source": [
    "## Configurar HttpClient.DefaultProxy (.NET Core 3.0+)\n"
   ]
  },
  {
   "cell_type": "code",
   "execution_count": 3,
   "metadata": {},
   "outputs": [
    {
     "name": "stdout",
     "output_type": "stream",
     "text": [
      "\n",
      "Proxy type: WebProxy\n",
      " - HTTP Proxy: http://localhost:8888/\n",
      " - HTTPS Proxy: http://localhost:8888/\n",
      "\n",
      "Credentials type: SystemNetworkCredential\n",
      " - Username: \n",
      " - DefaultCredentials: True\n"
     ]
    }
   ],
   "source": [
    "Uri proxyAddress = new Uri(\"http://localhost:8888\");\n",
    "\n",
    "//Passando credenciais\n",
    "//HttpClient.DefaultProxy = new WebProxy{UseDefaultCredentials=false, \n",
    "//                                       Address=proxyAddress,\n",
    "//                                       Credentials = new NetworkCredential{\n",
    "//                                           UserName=\"vzamora\", \n",
    "//                                           Password=\"P@ssw0rd\"}\n",
    "//                                       };\n",
    "\n",
    "//Usando credenciais do usuário Windows\n",
    "HttpClient.DefaultProxy = new WebProxy{UseDefaultCredentials=true, \n",
    "                                       Address=proxyAddress\n",
    "                                       };\n",
    "\n",
    "_proxy = HttpClient.DefaultProxy; \n",
    "\n",
    "Console.WriteLine($\"\\nProxy type: {_proxy.GetType().Name}\");\n",
    "Console.WriteLine($\" - HTTP Proxy: {_proxy.GetProxy(httpUri)}\");\n",
    "Console.WriteLine($\" - HTTPS Proxy: {_proxy.GetProxy(httpsUri)}\\n\");\n",
    "Console.WriteLine($\"Credentials type: {_proxy.Credentials?.GetType().Name}\");\n",
    "\n",
    "if(_proxy.Credentials!=null){\n",
    "    var cred = _proxy.Credentials as NetworkCredential;\n",
    "    Console.WriteLine($\" - Username: {cred.UserName}\");\n",
    "}\n",
    "\n",
    "Console.WriteLine($\" - DefaultCredentials: {_proxy.Credentials == CredentialCache.DefaultCredentials}\");   "
   ]
  },
  {
   "cell_type": "markdown",
   "metadata": {},
   "source": [
    "## .Net Framework 4.x\n",
    "`\n",
    "<system.net>  \n",
    "    <defaultProxy>  \n",
    "        <proxy  proxyaddress=\"http://proxy.contoso.com:3128\"  \n",
    "                bypassonlocal=\"True\"  \n",
    "        />  \n",
    "        <bypasslist>  \n",
    "            <add address=\"[a-z]+.blueyonderairlines.com$\" />  \n",
    "        </bypasslist>  \n",
    "    </defaultProxy>  \n",
    "</system.net>\n",
    "`"
   ]
  },
  {
   "cell_type": "markdown",
   "metadata": {},
   "source": [
    "## Teste de conectividade"
   ]
  },
  {
   "cell_type": "code",
   "execution_count": 4,
   "metadata": {},
   "outputs": [
    {
     "data": {
      "text/html": [
       "OK"
      ]
     },
     "execution_count": 4,
     "metadata": {},
     "output_type": "execute_result"
    }
   ],
   "source": [
    "var client = new HttpClient();\n",
    "var response = client.GetAsync(httpsUri).Result;\n",
    "response.StatusCode"
   ]
  }
 ],
 "metadata": {
  "kernelspec": {
   "display_name": ".NET (C#)",
   "language": "C#",
   "name": ".net-csharp"
  },
  "language_info": {
   "file_extension": ".cs",
   "mimetype": "text/x-csharp",
   "name": "C#",
   "pygments_lexer": "csharp",
   "version": "8.0"
  }
 },
 "nbformat": 4,
 "nbformat_minor": 4
}
