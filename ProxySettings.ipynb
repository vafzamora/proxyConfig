{
 "cells": [
  {
   "cell_type": "markdown",
   "metadata": {},
   "source": [
    "## HttpClient.DefaultProxy (.NET Core 3.0+)\n",
    "Proxy padrão para todas as instâncias de HttpClient"
   ]
  },
  {
   "cell_type": "code",
   "execution_count": 18,
   "metadata": {},
   "outputs": [
    {
     "name": "stdout",
     "output_type": "stream",
     "text": [
      "\n",
      "Proxy type: WebProxy\n",
      " - HTTP Proxy: https://localhost:8888/\n",
      " - HTTPS Proxy: https://localhost:8888/\n"
     ]
    }
   ],
   "source": [
    "using System.Net;\n",
    "using System.Net.Http;\n",
    "\n",
    "var httpUri = new Uri(\"http://microsoft.com\");\n",
    "var httpsUri = new Uri(\"https://microsoft.com\");\n",
    "\n",
    "var _proxy = HttpClient.DefaultProxy; \n",
    "\n",
    "Console.WriteLine($\"\\nProxy type: {_proxy.GetType().Name}\");\n",
    "Console.WriteLine($\" - HTTP Proxy: {_proxy.GetProxy(httpUri)}\");\n",
    "Console.WriteLine($\" - HTTPS Proxy: {_proxy.GetProxy(httpsUri)}\");"
   ]
  },
  {
   "cell_type": "markdown",
   "metadata": {},
   "source": [
    "## Variáveis de ambiente (.NET Core 3.0+)\n",
    "Suportadas em Windows, Linux e Mac. \n",
    "Outras linguagens também leem essas variáveis. "
   ]
  },
  {
   "cell_type": "code",
   "execution_count": 6,
   "metadata": {},
   "outputs": [
    {
     "name": "stdout",
     "output_type": "stream",
     "text": [
      "HTTP_PROXY: \n",
      "HTTPS_PROXY: \n",
      "NO_PROXY: \n"
     ]
    }
   ],
   "source": [
    "Console.WriteLine($\"HTTP_PROXY: {Environment.GetEnvironmentVariable(\"HTTP_PROXY\")}\");   // Proxy HTTP\n",
    "Console.WriteLine($\"HTTPS_PROXY: {Environment.GetEnvironmentVariable(\"HTTPS_PROXY\")}\"); // Proxy HTTPS\n",
    "Console.WriteLine($\"NO_PROXY: {Environment.GetEnvironmentVariable(\"NO_PROXY\")}\");       // Endereços que não passam pelo proxy"
   ]
  },
  {
   "cell_type": "markdown",
   "metadata": {},
   "source": [
    "## Configurar HttpClient.DefaultProxy (.NET Core 3.0+)\n"
   ]
  },
  {
   "cell_type": "code",
   "execution_count": 17,
   "metadata": {},
   "outputs": [
    {
     "name": "stdout",
     "output_type": "stream",
     "text": [
      "\n",
      "Proxy type: WebProxy\n",
      " - HTTP Proxy: https://localhost:8888/\n",
      " - HTTPS Proxy: https://localhost:8888/\n",
      "\n",
      "Credentials type: SystemNetworkCredential\n",
      " - Username: \n",
      " - DefaultCredentials: True\n"
     ]
    }
   ],
   "source": [
    "Uri proxyAddress = new Uri(\"https://localhost:8888\");\n",
    "\n",
    "//Passando credenciais\n",
    "//HttpClient.DefaultProxy = new WebProxy{UseDefaultCredentials=false, \n",
    "//                                       Address=proxyAddress,\n",
    "//                                       Credentials = new NetworkCredential{\n",
    "//                                           UserName=\"vzamora\", \n",
    "//                                           Password=\"P@ssw0rd\"}\n",
    "//                                       };\n",
    "\n",
    "//Usando credenciais do usuário Windows\n",
    "HttpClient.DefaultProxy = new WebProxy{UseDefaultCredentials=true, \n",
    "                                       Address=proxyAddress\n",
    "                                       };\n",
    "\n",
    "_proxy = HttpClient.DefaultProxy; \n",
    "\n",
    "Console.WriteLine($\"\\nProxy type: {_proxy.GetType().Name}\");\n",
    "Console.WriteLine($\" - HTTP Proxy: {_proxy.GetProxy(httpUri)}\");\n",
    "Console.WriteLine($\" - HTTPS Proxy: {_proxy.GetProxy(httpsUri)}\\n\");\n",
    "Console.WriteLine($\"Credentials type: {_proxy.Credentials?.GetType().Name}\");\n",
    "\n",
    "if(_proxy.Credentials!=null){\n",
    "    var cred = _proxy.Credentials as NetworkCredential;\n",
    "    Console.WriteLine($\" - Username: {cred.UserName}\");\n",
    "}\n",
    "\n",
    "Console.WriteLine($\" - DefaultCredentials: {_proxy.Credentials == CredentialCache.DefaultCredentials}\");   "
   ]
  },
  {
   "cell_type": "code",
   "execution_count": null,
   "metadata": {},
   "outputs": [],
   "source": []
  }
 ],
 "metadata": {
  "kernelspec": {
   "display_name": ".NET (C#)",
   "language": "C#",
   "name": ".net-csharp"
  },
  "language_info": {
   "file_extension": ".cs",
   "mimetype": "text/x-csharp",
   "name": "C#",
   "pygments_lexer": "csharp",
   "version": "8.0"
  }
 },
 "nbformat": 4,
 "nbformat_minor": 4
}
